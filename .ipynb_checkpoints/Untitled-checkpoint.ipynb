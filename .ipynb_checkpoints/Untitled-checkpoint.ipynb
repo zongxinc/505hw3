{
 "cells": [
  {
   "cell_type": "code",
   "execution_count": 1,
   "metadata": {},
   "outputs": [],
   "source": [
    "import csv\n",
    "import numpy as np\n",
    "from sklearn.naive_bayes import MultinomialNB\n",
    "from pprint import pprint\n",
    "from sklearn import preprocessing\n",
    "from sklearn.feature_extraction.text import CountVectorizer\n",
    "from nltk import word_tokenize\n",
    "from nltk.corpus import stopwords"
   ]
  },
  {
   "cell_type": "code",
   "execution_count": 2,
   "metadata": {},
   "outputs": [],
   "source": [
    "def dummy_fun(doc):\n",
    "    return doc\n",
    "stop_words = set(stopwords.words('english')) \n",
    "trainSentiment = []\n",
    "trainTweet = []\n",
    "vectorizer = CountVectorizer(max_features=4000, lowercase=False, analyzer=\"word\", tokenizer=lambda doc: doc, preprocessor=dummy_fun, token_pattern=None)\n",
    "count = 0"
   ]
  },
  {
   "cell_type": "code",
   "execution_count": null,
   "metadata": {},
   "outputs": [],
   "source": [
    "with open(\"trainingandtestdata/training.1600000.processed.noemoticon.csv\", \"r\", encoding='latin-1') as f:\n",
    "\treader = csv.reader(f)\n",
    "\tfor row in reader:\n",
    "\t\tcount += 1\n",
    "\t\tif count == 1:\n",
    "\t\t\tcontinue\n",
    "\t\ttrainSentiment.append(row[0])\n",
    "\t\ttokens = word_tokenize(row[5].lower())\n",
    "\t\tprocessedToken = [w for w in tokens if not w in stop_words]\n",
    "\t\ttrainTweet.append(processedToken)\n",
    "print(\"done\")"
   ]
  },
  {
   "cell_type": "code",
   "execution_count": null,
   "metadata": {},
   "outputs": [],
   "source": []
  }
 ],
 "metadata": {
  "kernelspec": {
   "display_name": "Python 3",
   "language": "python",
   "name": "python3"
  },
  "language_info": {
   "codemirror_mode": {
    "name": "ipython",
    "version": 3
   },
   "file_extension": ".py",
   "mimetype": "text/x-python",
   "name": "python",
   "nbconvert_exporter": "python",
   "pygments_lexer": "ipython3",
   "version": "3.8.3"
  }
 },
 "nbformat": 4,
 "nbformat_minor": 4
}
